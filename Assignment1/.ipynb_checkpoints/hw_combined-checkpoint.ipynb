{
 "cells": [
  {
   "cell_type": "markdown",
   "metadata": {},
   "source": [
    "## Class: EML6281 \n",
    "## Assignment: Homework 1\n",
    "## Name: Elias Reyes"
   ]
  },
  {
   "cell_type": "code",
   "execution_count": 2,
   "metadata": {},
   "outputs": [],
   "source": [
    "import numpy as np\n",
    "from numpy import square as sqr\n",
    "import math\n",
    "from math import sin\n",
    "from math import cos"
   ]
  },
  {
   "cell_type": "markdown",
   "metadata": {},
   "source": [
    "### Problem 2.3"
   ]
  },
  {
   "cell_type": "code",
   "execution_count": 3,
   "metadata": {},
   "outputs": [
    {
     "name": "stdout",
     "output_type": "stream",
     "text": [
      "Transformation C_T_D:\n",
      "[[  0.61237244  -0.43559574   0.65973961  -7.89149131]\n",
      " [  0.61237244   0.78914913  -0.04736717 -20.13894002]\n",
      " [ -0.5          0.4330127    0.75        15.66987298]\n",
      " [  0.           0.           0.           1.        ]]\n",
      "Coordinates of point 1 measured in A:\n",
      "[[-7.83493649]\n",
      " [37.14101615]\n",
      " [13.57050808]\n",
      " [ 1.        ]]\n",
      "Coordinates of point 1 measured in B:\n",
      "[[ 20.        ]\n",
      " [-37.14101615]\n",
      " [-15.66987298]\n",
      " [  1.        ]]\n",
      "Coordinates of point 1 measured in C:\n",
      "[[ 20.72252766]\n",
      " [-31.8028011 ]\n",
      " [ -3.57050808]\n",
      " [  1.        ]]\n"
     ]
    }
   ],
   "source": [
    "## part a - determine C_T_D\n",
    "## C_T_D = C_T_A * A_T_B * B_T_D\n",
    "\n",
    "# C_T_A is given\n",
    "C_T_A = np.matrix([[np.sqrt(2.0)/2.0, np.sqrt(2.0)/2.0, 0, 0],[np.sqrt(2.0)/2.0, -np.sqrt(2)/2, 0, 0],[0, 0, -1, 10],[0, 0, 0, 1]])\n",
    "# Calculate A_T_B\n",
    "B_T_A  = np.matrix([[np.sqrt(3.0)/2.0, 0, 0.5, 20],[0 , -1, 0, 0],[0.5, 0, -np.sqrt(3)/2, 0],[0, 0, 0, 1]])\n",
    "B_P_A0 = B_T_A[0:-1,-1]\n",
    "A_R_B  = B_T_A[0:3,0:3].transpose()\n",
    "A_T_B  = np.concatenate((np.concatenate((A_R_B,-A_R_B*B_P_A0),axis=1),[[0, 0, 0, 1]]),axis=0)\n",
    "# Calculate B_T_D\n",
    "D_T_B = np.matrix([[1, 0, 0, 0],[0, np.sqrt(3.0)/2, 0.5, 10],[0, -0.5, np.sqrt(3.0)/2, 0],[0, 0, 0, 1]])\n",
    "D_P_B0 = D_T_B[0:-1,-1]\n",
    "B_R_D  = D_T_B[0:3,0:3].transpose()\n",
    "B_T_D  = np.concatenate((np.concatenate((B_R_D,-B_R_D*D_P_B0),axis=1),[[0, 0, 0, 1]]),axis=0)\n",
    "\n",
    "# Calculate C_T_D\n",
    "C_T_D = np.matmul(np.matmul(C_T_A, A_T_B), B_T_D)\n",
    "print('Transformation C_T_D:')\n",
    "print(C_T_D)\n",
    "\n",
    "## part b \n",
    "D_P1 = np.matrix([20,-30,5,1]).transpose() # given coordinate, add 1 \n",
    "A_P1 = np.matmul(np.matmul(A_T_B,B_T_D),D_P1)\n",
    "B_P1 = np.matmul(B_T_D,D_P1)\n",
    "C_P1 = np.matmul(C_T_D,D_P1)\n",
    "#\n",
    "print('Coordinates of point 1 measured in A:')\n",
    "print(A_P1)\n",
    "print('Coordinates of point 1 measured in B:')\n",
    "print(B_P1)\n",
    "print('Coordinates of point 1 measured in C:')\n",
    "print(C_P1)"
   ]
  },
  {
   "cell_type": "markdown",
   "metadata": {},
   "source": [
    "### Problem 2.4"
   ]
  },
  {
   "cell_type": "code",
   "execution_count": 4,
   "metadata": {},
   "outputs": [
    {
     "name": "stdout",
     "output_type": "stream",
     "text": [
      "Transformation that relates A and B:\n",
      "[[ 0.52898551 -0.67182943  0.5184781   5.13731742]\n",
      " [ 0.78777146  0.61594203 -0.00561586 -0.83831423]\n",
      " [-0.31557955  0.41141296  0.85507246 -0.98876827]\n",
      " [ 0.          0.          0.          1.        ]]\n"
     ]
    }
   ],
   "source": [
    "def determine_transformation_about_vector(m, theta):\n",
    "    # normalize the vector which is being rotated about \n",
    "    m_hat = m / np.linalg.norm(m)\n",
    "\n",
    "    mx = m_hat[0]\n",
    "    my = m_hat[1]\n",
    "    mz = m_hat[2]\n",
    "    # convert theta to radians\n",
    "    theta = theta*math.pi/180\n",
    "    # term for simplification\n",
    "    v = 1 - cos(theta)\n",
    "    # transformation to A from B\n",
    "    A_R_B = np.array([[sqr(mx)*v + cos(theta), mx*my*v-mz*sin(theta), mx*mz*v+my*sin(theta)],\n",
    "                      [mx*my*v+mz*sin(theta), sqr(my)*v + cos(theta), my*mz*v-mx*sin(theta)],\n",
    "                      [mx*mz*v-my*sin(theta), my*mz*v + mx*sin(theta), sqr(mz)*v+cos(theta)]])\n",
    "\n",
    "    return A_R_B\n",
    "\n",
    "\n",
    "#A_R_B  = determine_transformation_about_vector([2,4,7],60)\n",
    "A_P_C0 = np.array([[3,4,-2]]).T\n",
    "A_R_C  = np.identity(3)\n",
    "A_T_C  = np.concatenate((np.concatenate((A_R_C,A_P_C0),axis=1),[[0,0,0,1]]),axis=0)\n",
    "\n",
    "C_R_D = determine_transformation_about_vector([2,4,7],60)\n",
    "C_P_D0 = np.array([[0,0,0]]).T\n",
    "C_T_D = np.concatenate((np.concatenate((C_R_D,C_P_D0),axis=1),[[0,0,0,1]]),axis=0)\n",
    "\n",
    "D_P_B0 = np.array([[-3,-4,2]]).T\n",
    "D_R_B = np.identity(3)\n",
    "D_T_B = np.concatenate((np.concatenate((D_R_B,D_P_B0),axis=1),[[0,0,0,1]]),axis=0)\n",
    "\n",
    "# A_T_B = A_T_C*C_T_D*D_T_B\n",
    "A_T_B = np.matmul(np.matmul(A_T_C,C_T_D),D_T_B)\n",
    "print('Transformation that relates A and B:')\n",
    "print(A_T_B)"
   ]
  },
  {
   "cell_type": "markdown",
   "metadata": {},
   "source": [
    "### Problem 2.8"
   ]
  },
  {
   "cell_type": "code",
   "execution_count": 5,
   "metadata": {},
   "outputs": [
    {
     "name": "stdout",
     "output_type": "stream",
     "text": [
      "Transformation that relates C and B:\n",
      "[[ 0.53571429 -0.6229365   0.57005291  0.        ]\n",
      " [ 0.48531316  0.77960099  0.39584523 -2.32050808]\n",
      " [-0.69100025  0.06459423  0.71996267 11.33974596]\n",
      " [ 0.          0.          0.          1.        ]]\n"
     ]
    }
   ],
   "source": [
    "A_P_C0 = np.array([[10,20,10]]).T\n",
    "A_R_C  = np.identity(3)\n",
    "A_T_C  = np.concatenate((np.concatenate((A_R_C,A_P_C0),axis=1),[[0,0,0,1]]),axis=0)\n",
    "C_R_D  = determine_transformation_about_vector([1,0,0],30)\n",
    "C_P_D0 = np.array([[0,0,0]]).T\n",
    "C_T_D  = np.concatenate((np.concatenate((C_R_D,C_P_D0),axis=1),[[0,0,0,1]]),axis=0)\n",
    "D_P_B0 = np.array([[-10,-20,-10]]).T\n",
    "D_R_B = np.identity(3)\n",
    "D_T_B = np.concatenate((np.concatenate((D_R_B,D_P_B0),axis=1),[[0,0,0,1]]),axis=0)\n",
    "A_T_B = np.matmul(np.matmul(A_T_C,C_T_D),D_T_B)\n",
    "\n",
    "# Calculate B_T_A\n",
    "A_P_B0 = np.array([A_T_B[0:-1,-1]]).T\n",
    "B_R_A  = A_T_B[0:3,0:3].transpose()\n",
    "\n",
    "B_T_A  = np.concatenate((np.concatenate((B_R_A,-B_R_A@A_P_B0),axis=1),[[0, 0, 0, 1]]),axis=0)\n",
    "\n",
    "# Calculate A_T_C\n",
    "A_R_C   = determine_transformation_about_vector([2,4,6],60)\n",
    "A_P_C02 = np.array([[0,0,0]]).T\n",
    "A_T_C   = np.concatenate((np.concatenate((A_R_C,A_P_C02),axis=1),[[0, 0, 0, 1]]),axis=0)\n",
    "\n",
    "# Calculate B_T_C\n",
    "B_T_C = np.matmul(B_T_A,A_T_C)\n",
    "\n",
    "print('Transformation that relates C and B:')\n",
    "print(B_T_C)"
   ]
  },
  {
   "cell_type": "code",
   "execution_count": null,
   "metadata": {},
   "outputs": [],
   "source": []
  }
 ],
 "metadata": {
  "kernelspec": {
   "display_name": "Python 3 (ipykernel)",
   "language": "python",
   "name": "python3"
  },
  "language_info": {
   "codemirror_mode": {
    "name": "ipython",
    "version": 3
   },
   "file_extension": ".py",
   "mimetype": "text/x-python",
   "name": "python",
   "nbconvert_exporter": "python",
   "pygments_lexer": "ipython3",
   "version": "3.8.13"
  },
  "vscode": {
   "interpreter": {
    "hash": "a209d2cd6cfc00071c789f784db02c8752a5d2cbbedd954d2cf1fd6b5fe3b388"
   }
  }
 },
 "nbformat": 4,
 "nbformat_minor": 2
}
