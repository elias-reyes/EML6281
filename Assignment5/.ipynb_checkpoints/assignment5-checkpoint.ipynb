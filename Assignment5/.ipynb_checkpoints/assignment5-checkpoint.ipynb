{
 "cells": [
  {
   "cell_type": "markdown",
   "metadata": {},
   "source": [
    "# Class: EML6281\n",
    "## Assignment: Homework 5\n",
    "### Name: Elias Reyes"
   ]
  },
  {
   "cell_type": "code",
   "execution_count": 1,
   "metadata": {},
   "outputs": [],
   "source": [
    "# load libraries\n",
    "from math import sqrt, sin, cos\n",
    "import numpy as np\n",
    "from numpy import deg2rad, pi, rad2deg\n",
    "import math"
   ]
  },
  {
   "cell_type": "markdown",
   "metadata": {},
   "source": [
    "### Problem 6.2"
   ]
  },
  {
   "cell_type": "code",
   "execution_count": 2,
   "metadata": {},
   "outputs": [],
   "source": [
    "# solve trig function\n",
    "def solve_trig(A, B, D):\n",
    "    \n",
    "    valid   = 0\n",
    "    theta_a = 0\n",
    "    theta_b = 0\n",
    "    sin_gamma = B / sqrt(A*A + B*B)\n",
    "    cos_gamma = A / sqrt(A*A + B*B)\n",
    "\n",
    "    gamma           = math.atan2(sin_gamma,cos_gamma)\n",
    "    ratio = -D/sqrt(A*A + B*B)\n",
    "\n",
    "    if ratio >= -1.0 and ratio <= 1.0:\n",
    "        valid = 1\n",
    "        cos_minus_gamma = math.acos(ratio)\n",
    "        theta_a =  cos_minus_gamma + gamma\n",
    "        theta_b = -cos_minus_gamma + gamma\n",
    "    \n",
    "    return valid, theta_a, theta_b\n"
   ]
  },
  {
   "cell_type": "code",
   "execution_count": 3,
   "metadata": {},
   "outputs": [
    {
     "name": "stdout",
     "output_type": "stream",
     "text": [
      "Valid: 1\n",
      "Theta_a: 22.023535734376182\n",
      "Theta_b: -175.54249590400178\n"
     ]
    }
   ],
   "source": [
    "# test solve trig function\n",
    "\n",
    "A = 1.2\n",
    "B = -5.1\n",
    "D = 0.8\n",
    "\n",
    "valid, theta_a, theta_b = solve_trig(A, B, D)\n",
    "\n",
    "print('Valid:',valid)\n",
    "print('Theta_a:',rad2deg(theta_a))\n",
    "print('Theta_b:',rad2deg(theta_b))"
   ]
  },
  {
   "cell_type": "markdown",
   "metadata": {},
   "source": [
    "### Problem 6.3"
   ]
  },
  {
   "cell_type": "code",
   "execution_count": 4,
   "metadata": {},
   "outputs": [],
   "source": [
    "alpha_12 = deg2rad(75.0) \n",
    "alpha_23 = deg2rad(110.0)\n",
    "alpha_34 = deg2rad(60.0)\n",
    "alpha_41 = deg2rad(80.0)\n",
    "theta_1 = deg2rad(120.0)"
   ]
  },
  {
   "cell_type": "code",
   "execution_count": 5,
   "metadata": {},
   "outputs": [],
   "source": [
    "# 416\n",
    "# solve for theta_2 first\n",
    "# use Z_12 = C_34\n",
    "X_1 = sin(alpha_41)*sin(theta_1)\n",
    "Y_1 = -(sin(alpha_12)*cos(alpha_41) + cos(alpha_12)*sin(alpha_41)*cos(theta_1))\n",
    "Z_1 = cos(alpha_12)*cos(alpha_41)-sin(alpha_12)*sin(alpha_41)*cos(theta_1)\n",
    "A2  = sin(alpha_23)*Y_1\n",
    "B2  = sin(alpha_23)*X_1\n",
    "D2  = cos(alpha_23)*Z_1 - cos(alpha_34)"
   ]
  },
  {
   "cell_type": "code",
   "execution_count": 6,
   "metadata": {},
   "outputs": [
    {
     "name": "stdout",
     "output_type": "stream",
     "text": [
      "125.02217073092707\n"
     ]
    }
   ],
   "source": [
    "valid, theta_2a, theta_2b = solve_trig(A2, B2, D2)\n",
    "print(theta_2a*180/pi)"
   ]
  },
  {
   "cell_type": "code",
   "execution_count": 7,
   "metadata": {},
   "outputs": [
    {
     "name": "stdout",
     "output_type": "stream",
     "text": [
      "-148.1917767900727\n",
      "148.19177679007274\n"
     ]
    }
   ],
   "source": [
    "# solve for theta_3\n",
    "\n",
    "# X_12 = sin_34 * sin_3\n",
    "# Y_12 = sin_34 * cos_3\n",
    "\n",
    "X_12a = X_1 * cos(theta_2a) - Y_1 * sin(theta_2a)\n",
    "Y_12a = cos(alpha_23)*(X_1*sin(theta_2a)+Y_1*cos(theta_2a)) - sin(alpha_23)*Z_1\n",
    "\n",
    "sin_3a = X_12a / sin(alpha_34)\n",
    "cos_3a = Y_12a / sin(alpha_34)\n",
    "\n",
    "theta_3a = math.atan2(sin_3a,cos_3a)\n",
    "\n",
    "X_12b = X_1 * cos(theta_2b) - Y_1 * sin(theta_2b)\n",
    "Y_12b = cos(alpha_23)*(X_1*sin(theta_2b)+Y_1*cos(theta_2b)) - sin(alpha_23)*Z_1\n",
    "\n",
    "sin_3b = X_12b / sin(alpha_34)\n",
    "cos_3b = Y_12b / sin(alpha_34)\n",
    "\n",
    "theta_3b = math.atan2(sin_3b,cos_3b)\n",
    "\n",
    "print(theta_3a*180/pi)\n",
    "print(theta_3b*180/pi)\n"
   ]
  },
  {
   "cell_type": "code",
   "execution_count": 8,
   "metadata": {},
   "outputs": [
    {
     "name": "stdout",
     "output_type": "stream",
     "text": [
      "-113.90218976416982\n",
      "-42.98862455401464\n"
     ]
    }
   ],
   "source": [
    "# solve for theta_4\n",
    "\n",
    "# X_21 = sin_34 * sin_4\n",
    "# Y_21 = sin_34 * cos_4\n",
    "\n",
    "X_2a_bar = sin(alpha_23)*sin(theta_2a)\n",
    "Y_2a_bar = -(sin(alpha_12)*cos(alpha_23) + cos(alpha_12)*sin(alpha_23)*cos(theta_2a))\n",
    "Z_2a_bar = cos(alpha_12)*cos(alpha_23) - sin(alpha_12)*sin(alpha_23)*cos(theta_2a)\n",
    "X_21a    = X_2a_bar * cos(theta_1) - Y_2a_bar * sin(theta_1)\n",
    "Y_21a    = cos(alpha_41)*(X_2a_bar*sin(theta_1)+Y_2a_bar*cos(theta_1))-sin(alpha_41)*Z_2a_bar\n",
    "\n",
    "sin_4a = X_21a / sin(alpha_34)\n",
    "cos_4a = Y_21a / sin(alpha_34)\n",
    "\n",
    "theta_4a = math.atan2(sin_4a,cos_4a)\n",
    "\n",
    "X_2b_bar = sin(alpha_23)*sin(theta_2b)\n",
    "Y_2b_bar = -(sin(alpha_12)*cos(alpha_23)+cos(alpha_12)*sin(alpha_23)*cos(theta_2b))\n",
    "Z_2b_bar = cos(alpha_12)*cos(alpha_23) - sin(alpha_12)*sin(alpha_23)*cos(theta_2b)\n",
    "X_21b    = X_2b_bar * cos(theta_1) - Y_2b_bar * sin(theta_1)\n",
    "Y_21b    = cos(alpha_41)*(X_2b_bar*sin(theta_1)+Y_2b_bar*cos(theta_1))-sin(alpha_41)*Z_2b_bar\n",
    "\n",
    "sin_4b = X_21b / sin(alpha_34)\n",
    "cos_4b = Y_21b / sin(alpha_34)\n",
    "\n",
    "theta_4b = math.atan2(sin_4b,cos_4b)\n",
    "\n",
    "print(theta_4a*180/pi)\n",
    "print(theta_4b*180/pi)"
   ]
  },
  {
   "cell_type": "code",
   "execution_count": 9,
   "metadata": {},
   "outputs": [
    {
     "name": "stdout",
     "output_type": "stream",
     "text": [
      "╒═════════╤═══════════╤═══════════╤═══════════╤═══════════╕\n",
      "│         │   Theta_1 │   Theta_2 │   Theta_3 │   Theta_4 │\n",
      "╞═════════╪═══════════╪═══════════╪═══════════╪═══════════╡\n",
      "│ Theta_a │       120 │  125.022  │  -148.192 │ -113.902  │\n",
      "├─────────┼───────────┼───────────┼───────────┼───────────┤\n",
      "│ Theta_b │       120 │   60.3869 │   148.192 │  -42.9886 │\n",
      "╘═════════╧═══════════╧═══════════╧═══════════╧═══════════╛\n"
     ]
    }
   ],
   "source": [
    "from tabulate import tabulate\n",
    "\n",
    "table = [['Theta_1','Theta_2','Theta_3','Theta_4'],\n",
    "         ['Theta_a',rad2deg(theta_1),rad2deg(theta_2a),rad2deg(theta_3a),rad2deg(theta_4a)],\n",
    "         ['Theta_b',rad2deg(theta_1),rad2deg(theta_2b),rad2deg(theta_3b),rad2deg(theta_4b)]]\n",
    "print(tabulate(table,headers='firstrow', tablefmt='fancy_grid'))"
   ]
  },
  {
   "cell_type": "code",
   "execution_count": null,
   "metadata": {},
   "outputs": [],
   "source": []
  }
 ],
 "metadata": {
  "kernelspec": {
   "display_name": "Python 3 (ipykernel)",
   "language": "python",
   "name": "python3"
  },
  "language_info": {
   "codemirror_mode": {
    "name": "ipython",
    "version": 3
   },
   "file_extension": ".py",
   "mimetype": "text/x-python",
   "name": "python",
   "nbconvert_exporter": "python",
   "pygments_lexer": "ipython3",
   "version": "3.8.13"
  },
  "vscode": {
   "interpreter": {
    "hash": "a209d2cd6cfc00071c789f784db02c8752a5d2cbbedd954d2cf1fd6b5fe3b388"
   }
  }
 },
 "nbformat": 4,
 "nbformat_minor": 2
}
