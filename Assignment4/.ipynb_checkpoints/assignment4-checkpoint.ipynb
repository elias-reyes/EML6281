{
 "cells": [
  {
   "cell_type": "markdown",
   "metadata": {},
   "source": [
    "# Class: EML6281\n",
    "## Assignment: Homework 4\n",
    "### Name: Elias Reyes"
   ]
  },
  {
   "cell_type": "markdown",
   "metadata": {},
   "source": [
    "=============================================================================="
   ]
  },
  {
   "cell_type": "code",
   "execution_count": 1,
   "metadata": {},
   "outputs": [],
   "source": [
    "# import libraries\n",
    "import numpy as np\n",
    "from numpy import rad2deg, pi\n",
    "from math import cos\n",
    "from math import sin\n",
    "import math"
   ]
  },
  {
   "cell_type": "markdown",
   "metadata": {},
   "source": [
    "### Function that returns $a_{71}$, $S_7$, $S_1$, $\\alpha_{71}$, $\\theta_{7}$, $\\gamma_1$"
   ]
  },
  {
   "cell_type": "code",
   "execution_count": 2,
   "metadata": {},
   "outputs": [],
   "source": [
    "def close_loop(Ptool_wrt_6, Ptool_wrt_F, S6_wrt_F, a67_wrt_F):\n",
    "    \n",
    "    S1_wrt_F      = np.array([0, 0, 1])\n",
    "    S7_wrt_F      = np.cross(a67_wrt_F,S6_wrt_F)\n",
    "\n",
    "    S7_x_S1_wrt_F = np.cross(S7_wrt_F,S1_wrt_F)\n",
    "\n",
    "    c71           = np.dot(S7_wrt_F,S1_wrt_F)\n",
    "    \n",
    "    P6orig_wrt_F = Ptool_wrt_F - np.dot(Ptool_wrt_6,np.array([1, 0, 0]))*a67_wrt_F\\\n",
    "                               - np.cross(np.dot(Ptool_wrt_6,np.array([0, 1, 0]))*S6_wrt_F,a67_wrt_F)\\\n",
    "                               - np.dot(Ptool_wrt_6,np.array([0, 0, 1]))*S6_wrt_F\n",
    "    if abs(c71) == 1:\n",
    "        tmp =1\n",
    "        S7  = 0\n",
    "        s71 = 0\n",
    "        S1  = np.dot(-P6orig_wrt_F,S1_wrt_F)\n",
    "        a71 = abs(-(P6orig_wrt_F+S1*S1_wrt_F))\n",
    "        if c71 == 1:\n",
    "            alpha71 = 0\n",
    "        else:\n",
    "            alpha71 = 180\n",
    "        if a71 == 0:\n",
    "            theta7 = 0\n",
    "            a71    = a67_wrt_F\n",
    "            cgamma1 = np.dot(a71_wrt_F,np.array([1, 0, 0]))\n",
    "            sgamma1 = np.dot(np.cross(a71_wrt_F,np.array([1, 0, 0])),S1_wrt_F)\n",
    "            gamma1  = math.atan2(sgamma1,cgamma1)\n",
    "        else:\n",
    "            a71_wrt_F = -(P6orig_wrt_F + S1*S1_wrt_F)/a71\n",
    "            c7  = np.dot(a67_wrt_F,a71_wrt_F)\n",
    "            s7  = np.dot(np.cross(a67_wrt_F,a71_wrt_F),S7_wrt_F)\n",
    "            theta7  = math.atan2(s7,c7)\n",
    "            cgamma1 = np.dot(a71_wrt_F,np.array([1, 0, 0]))\n",
    "            sgamma1 = np.dot(np.cross(a71_wrt_F,np.array([1, 0, 0])),S1_wrt_F)\n",
    "            gamma1  = math.atan2(sgamma1,cgamma1)\n",
    "    else:\n",
    "\n",
    "        a71_wrt_F = S7_x_S1_wrt_F/ np.linalg.norm(S7_x_S1_wrt_F)\n",
    "        S71 = np.dot(np.cross(S7_wrt_F,S1_wrt_F),a71_wrt_F)\n",
    "        c7  = np.dot(a67_wrt_F,a71_wrt_F)\n",
    "        s7  = np.dot(np.cross(a67_wrt_F,a71_wrt_F),S7_wrt_F)\n",
    "        c71 = np.dot(S7_wrt_F,S1_wrt_F)\n",
    "        s71 = np.dot(np.cross(S7_wrt_F,S1_wrt_F),a71_wrt_F)\n",
    "\n",
    "        theta7  = math.atan2(s7,c7)\n",
    "        alpha71 = math.atan2(s71,c71)\n",
    "        cgamma1 = np.dot(a71_wrt_F,np.array([1, 0, 0]))\n",
    "        sgamma1 = np.dot(np.cross(a71_wrt_F,np.array([1, 0, 0])),S1_wrt_F)\n",
    "        gamma1  = math.atan2(sgamma1,cgamma1)\n",
    "\n",
    "        S7  = np.dot(np.cross(S1_wrt_F,P6orig_wrt_F),a71_wrt_F)/s71\n",
    "        a71 = np.dot(np.cross(P6orig_wrt_F,S1_wrt_F),S7_wrt_F)/s71\n",
    "        S1  = np.dot(np.cross(P6orig_wrt_F,S7_wrt_F),a71_wrt_F)/s71\n",
    "\n",
    "    alpha71 = rad2deg(alpha71)\n",
    "    theta7  = rad2deg(theta7)\n",
    "    gamma1  = rad2deg(gamma1)\n",
    "\n",
    "    return a71, S7, S1, alpha71, theta7, gamma1"
   ]
  },
  {
   "cell_type": "markdown",
   "metadata": {},
   "source": [
    "### Test Function"
   ]
  },
  {
   "cell_type": "code",
   "execution_count": 3,
   "metadata": {},
   "outputs": [],
   "source": [
    "Ptool_wrt_6 = np.array([5, 3, 7])\n",
    "Ptool_wrt_F = np.array([25, 23, 24])\n",
    "S6_wrt_F    = np.array([0.177, 0.884, -0.433])\n",
    "a67_wrt_F   = np.array([-0.153, 0.459, 0.875])\n",
    "\n",
    "\n",
    "a71, S7, S1, alpha71, theta7, gamma1 = close_loop(Ptool_wrt_6, Ptool_wrt_F, S6_wrt_F, a67_wrt_F)"
   ]
  },
  {
   "cell_type": "markdown",
   "metadata": {},
   "source": [
    "### Print Output"
   ]
  },
  {
   "cell_type": "code",
   "execution_count": 4,
   "metadata": {},
   "outputs": [
    {
     "name": "stdout",
     "output_type": "stream",
     "text": [
      "a71:  -16.68351681750941\n",
      "S7:  20.66834685636974\n",
      "S1:  -17.53192124733023\n",
      "alpha71:  102.50332108782494\n",
      "theta7:  63.68660973841757\n",
      "gamma1:  -84.79154913644719\n"
     ]
    }
   ],
   "source": [
    "print('a71: ',a71)\n",
    "print('S7: ',S7)\n",
    "print('S1: ',S1)\n",
    "print('alpha71: ',alpha71)\n",
    "print('theta7: ',theta7)\n",
    "print('gamma1: ',gamma1)"
   ]
  }
 ],
 "metadata": {
  "kernelspec": {
   "display_name": "Python 3 (ipykernel)",
   "language": "python",
   "name": "python3"
  },
  "language_info": {
   "codemirror_mode": {
    "name": "ipython",
    "version": 3
   },
   "file_extension": ".py",
   "mimetype": "text/x-python",
   "name": "python",
   "nbconvert_exporter": "python",
   "pygments_lexer": "ipython3",
   "version": "3.8.13"
  },
  "vscode": {
   "interpreter": {
    "hash": "a209d2cd6cfc00071c789f784db02c8752a5d2cbbedd954d2cf1fd6b5fe3b388"
   }
  }
 },
 "nbformat": 4,
 "nbformat_minor": 2
}
